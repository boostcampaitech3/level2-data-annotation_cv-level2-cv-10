{
 "cells": [
  {
   "cell_type": "markdown",
   "id": "b3c9e6df-a4c2-485c-ba93-22e413f4124b",
   "metadata": {},
   "source": [
    "## Annotation data 다운로드\n",
    "- 실습에서 annotation 한 data를 다운로드한다."
   ]
  },
  {
   "cell_type": "code",
   "execution_count": 1,
   "id": "833ed47e-708f-45ce-8dbe-ed68ea051e45",
   "metadata": {},
   "outputs": [
    {
     "name": "stdout",
     "output_type": "stream",
     "text": [
      "Collecting gdown\n",
      "  Downloading gdown-4.4.0.tar.gz (14 kB)\n",
      "  Installing build dependencies ... \u001b[?25ldone\n",
      "\u001b[?25h  Getting requirements to build wheel ... \u001b[?25ldone\n",
      "\u001b[?25h    Preparing wheel metadata ... \u001b[?25ldone\n",
      "\u001b[?25hRequirement already satisfied: beautifulsoup4 in /opt/conda/lib/python3.8/site-packages (from gdown) (4.9.3)\n",
      "Requirement already satisfied: tqdm in /opt/conda/lib/python3.8/site-packages (from gdown) (4.62.3)\n",
      "Requirement already satisfied: filelock in /opt/conda/lib/python3.8/site-packages (from gdown) (3.0.12)\n",
      "Requirement already satisfied: requests[socks] in /opt/conda/lib/python3.8/site-packages (from gdown) (2.24.0)\n",
      "Requirement already satisfied: six in /opt/conda/lib/python3.8/site-packages (from gdown) (1.15.0)\n",
      "Requirement already satisfied: soupsieve>1.2; python_version >= \"3.0\" in /opt/conda/lib/python3.8/site-packages (from beautifulsoup4->gdown) (2.1)\n",
      "Requirement already satisfied: certifi>=2017.4.17 in /opt/conda/lib/python3.8/site-packages (from requests[socks]->gdown) (2020.12.5)\n",
      "Requirement already satisfied: urllib3!=1.25.0,!=1.25.1,<1.26,>=1.21.1 in /opt/conda/lib/python3.8/site-packages (from requests[socks]->gdown) (1.25.11)\n",
      "Requirement already satisfied: idna<3,>=2.5 in /opt/conda/lib/python3.8/site-packages (from requests[socks]->gdown) (2.10)\n",
      "Requirement already satisfied: chardet<4,>=3.0.2 in /opt/conda/lib/python3.8/site-packages (from requests[socks]->gdown) (3.0.4)\n",
      "Requirement already satisfied: PySocks!=1.5.7,>=1.5.6; extra == \"socks\" in /opt/conda/lib/python3.8/site-packages (from requests[socks]->gdown) (1.7.1)\n",
      "Building wheels for collected packages: gdown\n",
      "  Building wheel for gdown (PEP 517) ... \u001b[?25ldone\n",
      "\u001b[?25h  Created wheel for gdown: filename=gdown-4.4.0-py3-none-any.whl size=14775 sha256=9a6c407db2abdeb7e42e859be5f6fbfef4371aac20eed16f5ddee2c28b3e0ca2\n",
      "  Stored in directory: /opt/ml/.cache/pip/wheels/7b/7b/5d/656f46cd6889e4c93977be9586901d0adc1271b2d876c84c96\n",
      "Successfully built gdown\n",
      "Installing collected packages: gdown\n",
      "Successfully installed gdown-4.4.0\n"
     ]
    }
   ],
   "source": [
    "!pip install gdown"
   ]
  },
  {
   "cell_type": "code",
   "execution_count": 3,
   "id": "0f98bda3-d308-47e5-981e-dad9d1c3651a",
   "metadata": {},
   "outputs": [
    {
     "name": "stdout",
     "output_type": "stream",
     "text": [
      "/opt/ml/code/my-work\n"
     ]
    }
   ],
   "source": [
    "!pwd"
   ]
  },
  {
   "cell_type": "code",
   "execution_count": 4,
   "id": "3fe16c4f-cd7b-4de0-b444-021469aaf37d",
   "metadata": {},
   "outputs": [
    {
     "name": "stderr",
     "output_type": "stream",
     "text": [
      "Downloading...\n",
      "From: https://drive.google.com/uc?id=1en_NtdPgFULF8XPiu6Vy0dwny729vN8f\n",
      "To: /opt/ml/input/data/aistages_ann.zip\n",
      "100%|██████████| 5.24G/5.24G [01:01<00:00, 84.6MB/s]\n"
     ]
    },
    {
     "data": {
      "text/plain": [
       "'/opt/ml/input/data/aistages_ann.zip'"
      ]
     },
     "execution_count": 4,
     "metadata": {},
     "output_type": "execute_result"
    }
   ],
   "source": [
    "import gdown\n",
    "\n",
    "google_path = 'https://drive.google.com/uc?id='\n",
    "file_id = '1en_NtdPgFULF8XPiu6Vy0dwny729vN8f'\n",
    "output_name = '/opt/ml/input/data/AIStages_ANN.zip'\n",
    "gdown.download(google_path+file_id,output_name,quiet=False)"
   ]
  },
  {
   "cell_type": "code",
   "execution_count": null,
   "id": "d43f61d2-b247-409a-8a07-d0a509e129a6",
   "metadata": {},
   "outputs": [],
   "source": [
    "import zipfile\n",
    "\n",
    "output_name = '/opt/ml/input/data/AIStages_ANN.zip'\n",
    "dataset_zip = zipfile.ZipFile(output_name)\n",
    "dataset_zip.extractall('/opt/ml/input/data/AIStages_ANN')\n",
    " \n",
    "dataset_zip.close()"
   ]
  },
  {
   "cell_type": "code",
   "execution_count": null,
   "id": "9b3e89a1-87fd-4b89-875b-4617dfab77d4",
   "metadata": {},
   "outputs": [],
   "source": []
  }
 ],
 "metadata": {
  "kernelspec": {
   "display_name": "Python 3 (ipykernel)",
   "language": "python",
   "name": "python3"
  },
  "language_info": {
   "codemirror_mode": {
    "name": "ipython",
    "version": 3
   },
   "file_extension": ".py",
   "mimetype": "text/x-python",
   "name": "python",
   "nbconvert_exporter": "python",
   "pygments_lexer": "ipython3",
   "version": "3.8.5"
  }
 },
 "nbformat": 4,
 "nbformat_minor": 5
}
