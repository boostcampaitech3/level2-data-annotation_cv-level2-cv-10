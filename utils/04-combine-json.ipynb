{
 "cells": [
  {
   "cell_type": "markdown",
   "id": "d2c7c130-d295-47b6-bd2d-c0bd01b6422f",
   "metadata": {},
   "source": [
    "## 서로 다른 dataset에서 얻은 annotation 파일들을 한 파일로 합치기"
   ]
  },
  {
   "cell_type": "code",
   "execution_count": 1,
   "id": "1ff2a836-bdeb-44c9-89cd-34beabb011b1",
   "metadata": {},
   "outputs": [],
   "source": [
    "import os.path as osp\n",
    "import json\n",
    "import os\n",
    "from tqdm import tqdm\n",
    "import copy"
   ]
  },
  {
   "cell_type": "code",
   "execution_count": 2,
   "id": "75740706-1d0d-442f-9e09-a7789c09f2ca",
   "metadata": {},
   "outputs": [],
   "source": [
    "data_dir = \"/opt/ml/input/data\"\n",
    "new_data_dir = \"/opt/ml/input/data/Modified/ufo\"\n",
    "if not osp.exists(new_data_dir):\n",
    "    os.makedirs(new_data_dir)"
   ]
  },
  {
   "cell_type": "code",
   "execution_count": 3,
   "id": "fe0fa0ec-3001-454d-baea-516b888218e6",
   "metadata": {},
   "outputs": [
    {
     "name": "stdout",
     "output_type": "stream",
     "text": [
      "670\n",
      "1668\n"
     ]
    },
    {
     "data": {
      "text/plain": [
       "2338"
      ]
     },
     "execution_count": 3,
     "metadata": {},
     "output_type": "execute_result"
    }
   ],
   "source": [
    "# 합칠 json 파일 리스트\n",
    "to_combine = [\"AIStages_ANN/ufo/train.json\", \"ICDAR17_MLT/ufo/train.json\"]\n",
    "\n",
    "\n",
    "train_tmp = dict()\n",
    "\n",
    "for dataset in to_combine:\n",
    "    with open(osp.join(data_dir, dataset), \"r\") as f:\n",
    "        anno = json.load(f)\n",
    "        train_tmp.update(anno[\"images\"])\n",
    "        print(len(anno[\"images\"]))\n",
    "len(train_tmp)"
   ]
  },
  {
   "cell_type": "code",
   "execution_count": 4,
   "id": "f3a234e6-3fa6-4fd8-8490-a82c734bd7a1",
   "metadata": {},
   "outputs": [],
   "source": [
    "new_data = {\"images\": train_tmp}"
   ]
  },
  {
   "cell_type": "code",
   "execution_count": 5,
   "id": "a4920ff9-0b56-46a4-a55f-022541e430bd",
   "metadata": {},
   "outputs": [],
   "source": [
    "with open(osp.join(new_data_dir, 'train.json'), \"w\") as f:\n",
    "    json.dump(new_data, f, indent=\"\\t\")"
   ]
  },
  {
   "cell_type": "code",
   "execution_count": null,
   "id": "3afaf629-6f06-4d60-916f-6712fabe7254",
   "metadata": {},
   "outputs": [],
   "source": []
  }
 ],
 "metadata": {
  "kernelspec": {
   "display_name": "Python 3 (ipykernel)",
   "language": "python",
   "name": "python3"
  },
  "language_info": {
   "codemirror_mode": {
    "name": "ipython",
    "version": 3
   },
   "file_extension": ".py",
   "mimetype": "text/x-python",
   "name": "python",
   "nbconvert_exporter": "python",
   "pygments_lexer": "ipython3",
   "version": "3.8.5"
  }
 },
 "nbformat": 4,
 "nbformat_minor": 5
}
